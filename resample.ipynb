{
 "cells": [
  {
   "cell_type": "code",
   "execution_count": 2,
   "metadata": {},
   "outputs": [
    {
     "name": "stdout",
     "output_type": "stream",
     "text": [
      "Jupyter environment detected. Enabling Open3D WebVisualizer.\n",
      "[Open3D INFO] WebRTC GUI backend enabled.\n",
      "[Open3D INFO] WebRTCWindowSystem: HTTP handshake server disabled.\n"
     ]
    }
   ],
   "source": [
    "import open3d as o3d\n",
    "import numpy as np"
   ]
  },
  {
   "cell_type": "markdown",
   "metadata": {},
   "source": [
    "### downsample the point cloud"
   ]
  },
  {
   "cell_type": "code",
   "execution_count": 3,
   "metadata": {},
   "outputs": [],
   "source": [
    "# load ply and downsample to 1/10 of the original points\n",
    "\n",
    "pcd = o3d.io.read_point_cloud(\"data/gargoyle.ply\")\n",
    "# o3d.visualization.draw_geometries([pcd])"
   ]
  },
  {
   "cell_type": "code",
   "execution_count": 4,
   "metadata": {},
   "outputs": [
    {
     "data": {
      "text/plain": [
       "True"
      ]
     },
     "execution_count": 4,
     "metadata": {},
     "output_type": "execute_result"
    }
   ],
   "source": [
    "# downsample\n",
    "points = np.asarray(pcd.points)\n",
    "\n",
    "pcd_down = o3d.geometry.PointCloud()\n",
    "pcd_down.points = o3d.utility.Vector3dVector(points[::10])\n",
    "\n",
    "# o3d.visualization.draw_geometries([pcd_down])\n",
    "o3d.io.write_point_cloud(\"data/gargoyle_downsampled.ply\", pcd_down)"
   ]
  },
  {
   "cell_type": "code",
   "execution_count": 6,
   "metadata": {},
   "outputs": [
    {
     "name": "stdout",
     "output_type": "stream",
     "text": [
      "float64\n",
      "0.0\n"
     ]
    }
   ],
   "source": [
    "# add guassian noise to the original point cloud(dont change the original point cloud)\n",
    "noise = 0.5\n",
    "pcd_noisy = o3d.geometry.PointCloud()\n",
    "pcd_noisy.points = o3d.utility.Vector3dVector(points + np.random.normal(0, noise, points.shape))\n",
    "\n",
    "\n",
    "# translate the noisy point cloud as float32\n",
    "pcd_noisy.points = o3d.utility.Vector3dVector(np.asarray(pcd_noisy.points, dtype=np.float32))\n",
    "# save the noisy point cloud in float32\n",
    "o3d.io.write_point_cloud(\"data/gargoyle_noisy.ply\", pcd_noisy)\n",
    "\n",
    "\n",
    "# compute the cd between the original and noisy point cloud dont use the pcd \n",
    "cd = pcd.compute_point_cloud_distance(pcd)\n",
    "# get the total cd sum\n",
    "cd_sum = np.sum(cd)\n",
    "\n",
    "\n",
    "print(cd_sum)\n"
   ]
  },
  {
   "cell_type": "code",
   "execution_count": null,
   "metadata": {},
   "outputs": [
    {
     "ename": "",
     "evalue": "",
     "output_type": "error",
     "traceback": [
      "\u001b[1;31mThe Kernel crashed while executing code in the current cell or a previous cell. \n",
      "\u001b[1;31mPlease review the code in the cell(s) to identify a possible cause of the failure. \n",
      "\u001b[1;31mClick <a href='https://aka.ms/vscodeJupyterKernelCrash'>here</a> for more info. \n",
      "\u001b[1;31mView Jupyter <a href='command:jupyter.viewOutput'>log</a> for further details."
     ]
    }
   ],
   "source": [
    "from graphviz import Digraph\n",
    "\n",
    "def visualize_network():\n",
    "    dot = Digraph()\n",
    "\n",
    "    # Adding nodes for layers\n",
    "    dot.node('I', 'Input Layer (3)')\n",
    "    dot.node('R0', 'ReLU')\n",
    "    dot.node('H1', 'Hidden Layer 1 (256)')\n",
    "    dot.node('R1', 'ReLU')\n",
    "    dot.node('H2', 'Hidden Layer 2 (256)')\n",
    "    dot.node('R2', 'ReLU')\n",
    "    dot.node('H3', 'Hidden Layer 3 (256)')\n",
    "    dot.node('R3', 'ReLU')\n",
    "    dot.node('H4', 'Hidden Layer 4 (256)')\n",
    "    dot.node('R4', 'ReLU')\n",
    "    dot.node('H5', 'Hidden Layer 5 (256)')\n",
    "    dot.node('R5', 'ReLU')\n",
    "    dot.node('H6', 'Hidden Layer 6 (256)')\n",
    "    dot.node('R6', 'ReLU')\n",
    "    dot.node('H7', 'Hidden Layer 7 (256)')\n",
    "    dot.node('R7', 'ReLU')\n",
    "    dot.node('H8', 'Hidden Layer 8 (256)')\n",
    "    dot.node('O', 'Output Layer (1)')\n",
    "\n",
    "    # Adding edges for layers and activations\n",
    "    dot.edge('I', 'R0')\n",
    "    dot.edge('R0', 'H1')\n",
    "    dot.edge('H1', 'R1')\n",
    "    dot.edge('R1', 'H2')\n",
    "    dot.edge('H2', 'R2')\n",
    "    dot.edge('R2', 'H3')\n",
    "    dot.edge('H3', 'R3')\n",
    "    dot.edge('R3', 'H4')\n",
    "    dot.edge('H4', 'R4')\n",
    "    dot.edge('R4', 'H5')\n",
    "    dot.edge('H5', 'R5')\n",
    "    dot.edge('R5', 'H6')\n",
    "    dot.edge('H6', 'R6')\n",
    "    dot.edge('R6', 'H7')\n",
    "    dot.edge('H7', 'R7')\n",
    "    dot.edge('R7', 'H8')\n",
    "    dot.edge('H8', 'O')\n",
    "    dot.edge('I', 'H4', label='Skip Connection')\n",
    "\n",
    "    # Save the graph to a file\n",
    "    dot.render('network_with_relu', format='png')\n",
    "\n",
    "visualize_network()\n"
   ]
  }
 ],
 "metadata": {
  "kernelspec": {
   "display_name": "lcm",
   "language": "python",
   "name": "python3"
  },
  "language_info": {
   "codemirror_mode": {
    "name": "ipython",
    "version": 3
   },
   "file_extension": ".py",
   "mimetype": "text/x-python",
   "name": "python",
   "nbconvert_exporter": "python",
   "pygments_lexer": "ipython3",
   "version": "3.8.19"
  },
  "orig_nbformat": 4,
  "vscode": {
   "interpreter": {
    "hash": "88f487086f3d7815ef264bfcfe671b5a036f227646b20693be88f026dd64291b"
   }
  }
 },
 "nbformat": 4,
 "nbformat_minor": 2
}
